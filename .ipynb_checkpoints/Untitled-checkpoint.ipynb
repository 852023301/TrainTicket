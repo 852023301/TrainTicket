{
 "cells": [
  {
   "cell_type": "code",
   "execution_count": 1,
   "metadata": {},
   "outputs": [],
   "source": [
    "\"\"\"爬取指定起始地点中途全部换乘的12306的火车票信息\"\"\"\n",
    "from selenium.webdriver.common.keys import Keys\n",
    "from selenium import webdriver\n",
    "import json, base64\n",
    "import requests,os\n",
    "from bs4 import BeautifulSoup\n",
    "import pickle\n",
    "import urllib\n",
    "import datetime"
   ]
  },
  {
   "cell_type": "code",
   "execution_count": 2,
   "metadata": {},
   "outputs": [],
   "source": [
    "browser = webdriver.Chrome()\n",
    "\n",
    "\n",
    "browser.get('https://kyfw.12306.cn/otn/leftTicket/init')"
   ]
  },
  {
   "cell_type": "markdown",
   "metadata": {},
   "source": [
    "# 获取地址的英文简称"
   ]
  },
  {
   "cell_type": "code",
   "execution_count": 9,
   "metadata": {},
   "outputs": [],
   "source": [
    "if not os.path.exists(os.path.join(os.getcwd(),'station.pkl')):\n",
    "    # 点击输入地址框\n",
    "    browser.find_elements_by_id('fromStationText')[0].click()\n",
    "    name_dict = {}\n",
    "    name_list = []\n",
    "    # 显示六列首字母对应的地址，其中第一列是热门站点，无“下一页”选项，因此从第二列开始遍历\n",
    "    index_list = ['17','21','21','24','21']  #每一列中的“下一页”的css属性有不同的部分\n",
    "    # 遍历首字母列\n",
    "    for name_j in range(1,len(browser.find_elements_by_xpath(\"//ul[@id='abc']//li\"))):\n",
    "        browser.find_elements_by_xpath(\"//ul[@id='abc']//li\")[name_j].click() # 点击首字母列\n",
    "        next_i = 1 #\"下一页\"的索引\n",
    "        while True:\n",
    "            if browser.find_elements_by_id('ul_list'+str(name_j+1)):\n",
    "                #获取当前页的html代码\n",
    "                result = browser.find_elements_by_id('ul_list'+str(name_j+1))[0].get_attribute('innerHTML')\n",
    "                soup = BeautifulSoup(result,'lxml')\n",
    "                result_list = soup.find_all('li',class_=\"ac_even openLi\")  # 每个li都是一个地名以及相应的英文简写  \n",
    "                name_list.extend(result_list)\n",
    "            #点击“下一页”\n",
    "            if browser.find_elements_by_css_selector('[onclick=\"$.stationFor12306.pageDesigh('+index_list[name_j-1]+','+str(next_i)+','+str(name_j+1)+')\"]'):\n",
    "                browser.find_elements_by_css_selector('[onclick=\"$.stationFor12306.pageDesigh('+index_list[name_j-1]+','+str(next_i)+','+str(name_j+1)+')\"]')[0].click()\n",
    "                next_i = next_i + 1 \n",
    "            else:\n",
    "                break    \n",
    "    #从li中取出地名以及英文名            \n",
    "    for i in name_list:\n",
    "        if i.get('data'):\n",
    "            name_dict[i.text] = i.get('data')                \n",
    "   #存入pickle中         \n",
    "    with open(os.path.join(os.getcwd(),'station.pkl'),'wb') as f:\n",
    "        pickle.dump(name_dict,f)            \n",
    "else:\n",
    "    with open('station.pkl','rb') as f:\n",
    "        name_dict = pickle.load(f)   \n"
   ]
  },
  {
   "cell_type": "code",
   "execution_count": 12,
   "metadata": {},
   "outputs": [
    {
     "data": {
      "text/plain": [
       "'TJP'"
      ]
     },
     "execution_count": 12,
     "metadata": {},
     "output_type": "execute_result"
    }
   ],
   "source": [
    "name_dict['天津']"
   ]
  },
  {
   "cell_type": "code",
   "execution_count": 13,
   "metadata": {},
   "outputs": [],
   "source": [
    "url = \"https://kyfw.12306.cn/otn/leftTicket/query?leftTicketDTO.train_date=2020-12-18\\\n",
    "&leftTicketDTO.from_station=BJP&leftTicketDTO.to_station=TJP&purpose_codes=ADULT\""
   ]
  },
  {
   "cell_type": "code",
   "execution_count": 14,
   "metadata": {},
   "outputs": [
    {
     "data": {
      "text/plain": [
       "'https://kyfw.12306.cn/otn/leftTicket/query?leftTicketDTO.train_date=2020-12-18&leftTicketDTO.from_station=BJP&leftTicketDTO.to_station=TJP&purpose_codes=ADULT'"
      ]
     },
     "execution_count": 14,
     "metadata": {},
     "output_type": "execute_result"
    }
   ],
   "source": [
    "url"
   ]
  },
  {
   "cell_type": "markdown",
   "metadata": {},
   "source": [
    "#### 出发地"
   ]
  },
  {
   "cell_type": "code",
   "execution_count": 164,
   "metadata": {
    "scrolled": true
   },
   "outputs": [
    {
     "data": {
      "text/plain": [
       "['__class__',\n",
       " '__delattr__',\n",
       " '__dict__',\n",
       " '__dir__',\n",
       " '__doc__',\n",
       " '__eq__',\n",
       " '__format__',\n",
       " '__ge__',\n",
       " '__getattribute__',\n",
       " '__gt__',\n",
       " '__hash__',\n",
       " '__init__',\n",
       " '__init_subclass__',\n",
       " '__le__',\n",
       " '__lt__',\n",
       " '__module__',\n",
       " '__ne__',\n",
       " '__new__',\n",
       " '__reduce__',\n",
       " '__reduce_ex__',\n",
       " '__repr__',\n",
       " '__setattr__',\n",
       " '__sizeof__',\n",
       " '__str__',\n",
       " '__subclasshook__',\n",
       " '__weakref__',\n",
       " '_execute',\n",
       " '_id',\n",
       " '_parent',\n",
       " '_upload',\n",
       " '_w3c',\n",
       " 'clear',\n",
       " 'click',\n",
       " 'find_element',\n",
       " 'find_element_by_class_name',\n",
       " 'find_element_by_css_selector',\n",
       " 'find_element_by_id',\n",
       " 'find_element_by_link_text',\n",
       " 'find_element_by_name',\n",
       " 'find_element_by_partial_link_text',\n",
       " 'find_element_by_tag_name',\n",
       " 'find_element_by_xpath',\n",
       " 'find_elements',\n",
       " 'find_elements_by_class_name',\n",
       " 'find_elements_by_css_selector',\n",
       " 'find_elements_by_id',\n",
       " 'find_elements_by_link_text',\n",
       " 'find_elements_by_name',\n",
       " 'find_elements_by_partial_link_text',\n",
       " 'find_elements_by_tag_name',\n",
       " 'find_elements_by_xpath',\n",
       " 'get_attribute',\n",
       " 'get_property',\n",
       " 'id',\n",
       " 'is_displayed',\n",
       " 'is_enabled',\n",
       " 'is_selected',\n",
       " 'location',\n",
       " 'location_once_scrolled_into_view',\n",
       " 'parent',\n",
       " 'rect',\n",
       " 'screenshot',\n",
       " 'screenshot_as_base64',\n",
       " 'screenshot_as_png',\n",
       " 'send_keys',\n",
       " 'size',\n",
       " 'submit',\n",
       " 'tag_name',\n",
       " 'text',\n",
       " 'value_of_css_property']"
      ]
     },
     "execution_count": 164,
     "metadata": {},
     "output_type": "execute_result"
    }
   ],
   "source": [
    "dir(browser.find_elements_by_id('abc')[0])"
   ]
  },
  {
   "cell_type": "code",
   "execution_count": 51,
   "metadata": {},
   "outputs": [],
   "source": [
    "if browser.find_elements_by_id('fromStationText'):\n",
    "    fromStation = browser.find_elements_by_id('fromStationText')[0]\n",
    "    fromStation.clear()\n",
    "    fromStation.click()\n",
    "    fromStation.send_keys('深圳')\n",
    "    \n",
    "if browser.find_elements_by_id('panel_cities'): # 下拉框\n",
    "    if browser.find_elements_by_class_name('citylineover'):\n",
    "        browser.find_elements_by_class_name('citylineover')[0].click()\n"
   ]
  },
  {
   "cell_type": "code",
   "execution_count": 16,
   "metadata": {},
   "outputs": [
    {
     "data": {
      "text/plain": [
       "[]"
      ]
     },
     "execution_count": 16,
     "metadata": {},
     "output_type": "execute_result"
    }
   ],
   "source": [
    "browser.find_elements_by_class_name('AbcSearch clx')"
   ]
  },
  {
   "cell_type": "markdown",
   "metadata": {},
   "source": [
    "#### 目的地"
   ]
  },
  {
   "cell_type": "code",
   "execution_count": 5,
   "metadata": {},
   "outputs": [],
   "source": [
    "if browser.find_elements_by_id('toStationText'):\n",
    "    fromStation = browser.find_elements_by_id('toStationText')[0]\n",
    "    fromStation.clear()\n",
    "    fromStation.click()\n",
    "    fromStation.send_keys('南宁')\n",
    "    \n",
    "if browser.find_elements_by_id('panel_cities'): # 下拉框\n",
    "    if browser.find_elements_by_class_name('citylineover'):\n",
    "        browser.find_elements_by_class_name('citylineover')[0].click()"
   ]
  },
  {
   "cell_type": "markdown",
   "metadata": {},
   "source": [
    "#### 日期"
   ]
  },
  {
   "cell_type": "code",
   "execution_count": 6,
   "metadata": {},
   "outputs": [],
   "source": [
    "month_dict = {\n",
    "    '01':'一月',\n",
    "    '02':'二月',\n",
    "    '03':'三月',\n",
    "    '04':'四月',\n",
    "    '05':'五月',\n",
    "    '06':'六月',\n",
    "    '07':'七月',\n",
    "    '08':'八月',\n",
    "    '09':'九月',\n",
    "    '10':'十月月',\n",
    "    '11':'十一月',\n",
    "    '12':'十二月'\n",
    "}"
   ]
  },
  {
   "cell_type": "code",
   "execution_count": 7,
   "metadata": {},
   "outputs": [],
   "source": [
    "if browser.find_elements_by_css_selector(\"[name='leftTicketDTO.train_date']\"):\n",
    "    browser.find_elements_by_css_selector(\"[name='leftTicketDTO.train_date']\")[0].click()"
   ]
  },
  {
   "cell_type": "code",
   "execution_count": null,
   "metadata": {},
   "outputs": [],
   "source": []
  },
  {
   "cell_type": "code",
   "execution_count": 21,
   "metadata": {},
   "outputs": [
    {
     "data": {
      "text/plain": [
       "[<selenium.webdriver.remote.webelement.WebElement (session=\"2ec1c58744bb697b5614a1defc315e95\", element=\"74e5f77b-2419-4e5f-b305-84b0e9804381\")>,\n",
       " <selenium.webdriver.remote.webelement.WebElement (session=\"2ec1c58744bb697b5614a1defc315e95\", element=\"63900a24-edd3-4d26-87f4-2611423311a8\")>]"
      ]
     },
     "execution_count": 21,
     "metadata": {},
     "output_type": "execute_result"
    }
   ],
   "source": [
    "browser.find_elements_by_class_name('year')"
   ]
  },
  {
   "cell_type": "code",
   "execution_count": 8,
   "metadata": {},
   "outputs": [],
   "source": [
    "if browser.find_elements_by_class_name('year'):\n",
    "    browser.find_elements_by_class_name('year')[0].click()"
   ]
  },
  {
   "cell_type": "code",
   "execution_count": 10,
   "metadata": {},
   "outputs": [
    {
     "data": {
      "text/plain": [
       "[<selenium.webdriver.remote.webelement.WebElement (session=\"7a7f510b735d5bc6e39fb10f3d55bb4f\", element=\"82ff685d-560f-4ee3-a793-e2e808c9a03a\")>]"
      ]
     },
     "execution_count": 10,
     "metadata": {},
     "output_type": "execute_result"
    }
   ],
   "source": [
    "browser.find_elements_by_css_selector(\"[name='leftTicketDTO.train_date']\")"
   ]
  },
  {
   "cell_type": "code",
   "execution_count": 77,
   "metadata": {},
   "outputs": [],
   "source": [
    "if browser.find_elements_by_css_selector(\"[style='color: #003784;cursor:pointer;']\"):\n",
    "    browser.find_elements_by_css_selector(\"[style='color: #003784;cursor:pointer;']\")[0].click()"
   ]
  },
  {
   "cell_type": "markdown",
   "metadata": {},
   "source": [
    "#### 查询"
   ]
  },
  {
   "cell_type": "code",
   "execution_count": 17,
   "metadata": {},
   "outputs": [],
   "source": [
    "if browser.find_elements_by_link_text('查询'): # 下拉框\n",
    "    browser.find_elements_by_link_text('查询')[0].click()"
   ]
  },
  {
   "cell_type": "markdown",
   "metadata": {},
   "source": [
    "---"
   ]
  },
  {
   "cell_type": "code",
   "execution_count": 13,
   "metadata": {},
   "outputs": [
    {
     "data": {
      "text/plain": [
       "[<selenium.webdriver.remote.webelement.WebElement (session=\"24a6b39707d19c8331bbdb67eeefa570\", element=\"76cbde3f-7dd1-44a6-89e1-340479738826\")>,\n",
       " <selenium.webdriver.remote.webelement.WebElement (session=\"24a6b39707d19c8331bbdb67eeefa570\", element=\"2fb0eb71-c14a-4c65-86b4-bd7ec72710fa\")>,\n",
       " <selenium.webdriver.remote.webelement.WebElement (session=\"24a6b39707d19c8331bbdb67eeefa570\", element=\"dd94a152-41e9-4183-af04-a29d80960963\")>,\n",
       " <selenium.webdriver.remote.webelement.WebElement (session=\"24a6b39707d19c8331bbdb67eeefa570\", element=\"fa4c26a4-5199-4404-bf4a-d6fe8e8fc6fd\")>,\n",
       " <selenium.webdriver.remote.webelement.WebElement (session=\"24a6b39707d19c8331bbdb67eeefa570\", element=\"22b78eb6-7390-4f4c-a9f1-c485e29092e1\")>,\n",
       " <selenium.webdriver.remote.webelement.WebElement (session=\"24a6b39707d19c8331bbdb67eeefa570\", element=\"caeb39b7-175f-465e-bb8c-679d0f84e927\")>,\n",
       " <selenium.webdriver.remote.webelement.WebElement (session=\"24a6b39707d19c8331bbdb67eeefa570\", element=\"f6dc6101-bbb9-4181-8805-bea8a7da5ddc\")>,\n",
       " <selenium.webdriver.remote.webelement.WebElement (session=\"24a6b39707d19c8331bbdb67eeefa570\", element=\"bce667a5-8a51-4699-a6b7-1c7e175c9854\")>,\n",
       " <selenium.webdriver.remote.webelement.WebElement (session=\"24a6b39707d19c8331bbdb67eeefa570\", element=\"3bf51405-cee8-496b-a890-6e470f17a310\")>,\n",
       " <selenium.webdriver.remote.webelement.WebElement (session=\"24a6b39707d19c8331bbdb67eeefa570\", element=\"98cee305-90b4-4b01-a64a-0402a053ac6c\")>]"
      ]
     },
     "execution_count": 13,
     "metadata": {},
     "output_type": "execute_result"
    }
   ],
   "source": [
    "browser.find_elements_by_xpath(\"//div[@class='lay-btn']//a[@class='btn92s']\")"
   ]
  },
  {
   "cell_type": "code",
   "execution_count": 16,
   "metadata": {},
   "outputs": [],
   "source": [
    "browser.find_elements_by_link_text('查询')[0].click()"
   ]
  },
  {
   "cell_type": "code",
   "execution_count": 1,
   "metadata": {},
   "outputs": [
    {
     "ename": "NameError",
     "evalue": "name 'browser' is not defined",
     "output_type": "error",
     "traceback": [
      "\u001b[1;31m---------------------------------------------------------------------------\u001b[0m",
      "\u001b[1;31mNameError\u001b[0m                                 Traceback (most recent call last)",
      "\u001b[1;32m<ipython-input-1-d836b8a2b4da>\u001b[0m in \u001b[0;36m<module>\u001b[1;34m\u001b[0m\n\u001b[1;32m----> 1\u001b[1;33m \u001b[0mbrowser\u001b[0m\u001b[1;33m.\u001b[0m\u001b[0mclose\u001b[0m\u001b[1;33m(\u001b[0m\u001b[1;33m)\u001b[0m\u001b[1;33m\u001b[0m\u001b[1;33m\u001b[0m\u001b[0m\n\u001b[0m",
      "\u001b[1;31mNameError\u001b[0m: name 'browser' is not defined"
     ]
    }
   ],
   "source": [
    "browser.close()"
   ]
  },
  {
   "cell_type": "code",
   "execution_count": null,
   "metadata": {},
   "outputs": [],
   "source": []
  }
 ],
 "metadata": {
  "kernelspec": {
   "display_name": "Python 3",
   "language": "python",
   "name": "python3"
  },
  "language_info": {
   "codemirror_mode": {
    "name": "ipython",
    "version": 3
   },
   "file_extension": ".py",
   "mimetype": "text/x-python",
   "name": "python",
   "nbconvert_exporter": "python",
   "pygments_lexer": "ipython3",
   "version": "3.7.4"
  }
 },
 "nbformat": 4,
 "nbformat_minor": 2
}
