{
 "cells": [
  {
   "cell_type": "code",
   "execution_count": 1,
   "metadata": {},
   "outputs": [],
   "source": [
    "\"\"\"爬取指定起始地点中途全部换乘的12306的火车票信息\"\"\"\n",
    "from selenium.webdriver.common.keys import Keys\n",
    "from selenium import webdriver\n",
    "import json, base64\n",
    "import requests,os\n",
    "from bs4 import BeautifulSoup\n",
    "import pickle\n",
    "import urllib"
   ]
  },
  {
   "cell_type": "code",
   "execution_count": 2,
   "metadata": {},
   "outputs": [],
   "source": [
    "browser = webdriver.Chrome()\n"
   ]
  },
  {
   "cell_type": "code",
   "execution_count": 3,
   "metadata": {},
   "outputs": [],
   "source": [
    "browser.get('https://kyfw.12306.cn/otn/leftTicket/init')"
   ]
  },
  {
   "cell_type": "markdown",
   "metadata": {},
   "source": [
    "#### 出发地"
   ]
  },
  {
   "cell_type": "code",
   "execution_count": 4,
   "metadata": {},
   "outputs": [],
   "source": [
    "if browser.find_elements_by_id('fromStationText'):\n",
    "    fromStation = browser.find_elements_by_id('fromStationText')[0]\n",
    "    fromStation.clear()\n",
    "    fromStation.click()\n",
    "    fromStation.send_keys('深圳')\n",
    "    \n",
    "if browser.find_elements_by_id('panel_cities'): # 下拉框\n",
    "    if browser.find_elements_by_class_name('citylineover'):\n",
    "        browser.find_elements_by_class_name('citylineover')[0].click()\n"
   ]
  },
  {
   "cell_type": "markdown",
   "metadata": {},
   "source": [
    "#### 目的地"
   ]
  },
  {
   "cell_type": "code",
   "execution_count": 6,
   "metadata": {},
   "outputs": [],
   "source": [
    "if browser.find_elements_by_id('toStationText'):\n",
    "    fromStation = browser.find_elements_by_id('toStationText')[0]\n",
    "    fromStation.clear()\n",
    "    fromStation.click()\n",
    "    fromStation.send_keys('南宁')\n",
    "    \n",
    "if browser.find_elements_by_id('panel_cities'): # 下拉框\n",
    "    if browser.find_elements_by_class_name('citylineover'):\n",
    "        browser.find_elements_by_class_name('citylineover')[0].click()"
   ]
  },
  {
   "cell_type": "markdown",
   "metadata": {},
   "source": [
    "#### 日期"
   ]
  },
  {
   "cell_type": "code",
   "execution_count": 23,
   "metadata": {},
   "outputs": [],
   "source": [
    "month_dict = {\n",
    "    '01':'一月',\n",
    "    '02':'二月',\n",
    "    '03':'三月',\n",
    "    '04':'四月',\n",
    "    '05':'五月',\n",
    "    '06':'六月',\n",
    "    '07':'七月',\n",
    "    '08':'八月',\n",
    "    '09':'九月',\n",
    "    '10':'十月月',\n",
    "    '11':'十一月',\n",
    "    '12':'十二月'\n",
    "}"
   ]
  },
  {
   "cell_type": "code",
   "execution_count": 73,
   "metadata": {},
   "outputs": [],
   "source": [
    "if browser.find_elements_by_class_name('inp_selected'):\n",
    "    browser.find_elements_by_class_name('inp_selected')[0].click()"
   ]
  },
  {
   "cell_type": "code",
   "execution_count": 78,
   "metadata": {},
   "outputs": [
    {
     "data": {
      "text/plain": [
       "[<selenium.webdriver.remote.webelement.WebElement (session=\"24a6b39707d19c8331bbdb67eeefa570\", element=\"f85ae024-0634-4ebb-9929-8a8531a238be\")>,\n",
       " <selenium.webdriver.remote.webelement.WebElement (session=\"24a6b39707d19c8331bbdb67eeefa570\", element=\"d3c78bf3-41d2-4468-98db-d65507024046\")>]"
      ]
     },
     "execution_count": 78,
     "metadata": {},
     "output_type": "execute_result"
    }
   ],
   "source": [
    "browser.find_elements_by_class_name('year')"
   ]
  },
  {
   "cell_type": "code",
   "execution_count": 76,
   "metadata": {},
   "outputs": [],
   "source": [
    "if browser.find_elements_by_class_name('year'):\n",
    "    browser.find_elements_by_class_name('year')[0].click()"
   ]
  },
  {
   "cell_type": "code",
   "execution_count": 77,
   "metadata": {},
   "outputs": [],
   "source": [
    "if browser.find_elements_by_css_selector(\"[style='color: #003784;cursor:pointer;']\"):\n",
    "    browser.find_elements_by_css_selector(\"[style='color: #003784;cursor:pointer;']\")[0].click()"
   ]
  },
  {
   "cell_type": "markdown",
   "metadata": {},
   "source": [
    "#### 查询"
   ]
  },
  {
   "cell_type": "code",
   "execution_count": 17,
   "metadata": {},
   "outputs": [],
   "source": [
    "if browser.find_elements_by_link_text('查询'): # 下拉框\n",
    "    browser.find_elements_by_link_text('查询')[0].click()"
   ]
  },
  {
   "cell_type": "markdown",
   "metadata": {},
   "source": [
    "---"
   ]
  },
  {
   "cell_type": "code",
   "execution_count": 13,
   "metadata": {},
   "outputs": [
    {
     "data": {
      "text/plain": [
       "[<selenium.webdriver.remote.webelement.WebElement (session=\"24a6b39707d19c8331bbdb67eeefa570\", element=\"76cbde3f-7dd1-44a6-89e1-340479738826\")>,\n",
       " <selenium.webdriver.remote.webelement.WebElement (session=\"24a6b39707d19c8331bbdb67eeefa570\", element=\"2fb0eb71-c14a-4c65-86b4-bd7ec72710fa\")>,\n",
       " <selenium.webdriver.remote.webelement.WebElement (session=\"24a6b39707d19c8331bbdb67eeefa570\", element=\"dd94a152-41e9-4183-af04-a29d80960963\")>,\n",
       " <selenium.webdriver.remote.webelement.WebElement (session=\"24a6b39707d19c8331bbdb67eeefa570\", element=\"fa4c26a4-5199-4404-bf4a-d6fe8e8fc6fd\")>,\n",
       " <selenium.webdriver.remote.webelement.WebElement (session=\"24a6b39707d19c8331bbdb67eeefa570\", element=\"22b78eb6-7390-4f4c-a9f1-c485e29092e1\")>,\n",
       " <selenium.webdriver.remote.webelement.WebElement (session=\"24a6b39707d19c8331bbdb67eeefa570\", element=\"caeb39b7-175f-465e-bb8c-679d0f84e927\")>,\n",
       " <selenium.webdriver.remote.webelement.WebElement (session=\"24a6b39707d19c8331bbdb67eeefa570\", element=\"f6dc6101-bbb9-4181-8805-bea8a7da5ddc\")>,\n",
       " <selenium.webdriver.remote.webelement.WebElement (session=\"24a6b39707d19c8331bbdb67eeefa570\", element=\"bce667a5-8a51-4699-a6b7-1c7e175c9854\")>,\n",
       " <selenium.webdriver.remote.webelement.WebElement (session=\"24a6b39707d19c8331bbdb67eeefa570\", element=\"3bf51405-cee8-496b-a890-6e470f17a310\")>,\n",
       " <selenium.webdriver.remote.webelement.WebElement (session=\"24a6b39707d19c8331bbdb67eeefa570\", element=\"98cee305-90b4-4b01-a64a-0402a053ac6c\")>]"
      ]
     },
     "execution_count": 13,
     "metadata": {},
     "output_type": "execute_result"
    }
   ],
   "source": [
    "browser.find_elements_by_xpath(\"//div[@class='lay-btn']//a[@class='btn92s']\")"
   ]
  },
  {
   "cell_type": "code",
   "execution_count": 16,
   "metadata": {},
   "outputs": [],
   "source": [
    "browser.find_elements_by_link_text('查询')[0].click()"
   ]
  },
  {
   "cell_type": "code",
   "execution_count": 20,
   "metadata": {},
   "outputs": [],
   "source": [
    "browser.close()"
   ]
  }
 ],
 "metadata": {
  "kernelspec": {
   "display_name": "Python 3",
   "language": "python",
   "name": "python3"
  },
  "language_info": {
   "codemirror_mode": {
    "name": "ipython",
    "version": 3
   },
   "file_extension": ".py",
   "mimetype": "text/x-python",
   "name": "python",
   "nbconvert_exporter": "python",
   "pygments_lexer": "ipython3",
   "version": "3.7.4"
  }
 },
 "nbformat": 4,
 "nbformat_minor": 2
}
