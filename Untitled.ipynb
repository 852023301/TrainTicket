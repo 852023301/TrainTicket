{
 "cells": [
  {
   "cell_type": "code",
   "execution_count": 1,
   "metadata": {},
   "outputs": [],
   "source": [
    "\"\"\"爬取指定起始地点中途全部换乘的12306的火车票信息\"\"\"\n",
    "from selenium.webdriver.common.keys import Keys\n",
    "from selenium import webdriver\n",
    "import json, base64\n",
    "import requests,os\n",
    "from bs4 import BeautifulSoup\n",
    "import pickle\n",
    "import urllib\n",
    "import datetime"
   ]
  },
  {
   "cell_type": "markdown",
   "metadata": {},
   "source": [
    "# 获取地址的英文简称"
   ]
  },
  {
   "cell_type": "code",
   "execution_count": 2,
   "metadata": {},
   "outputs": [],
   "source": [
    "if not os.path.exists(os.path.join(os.getcwd(),'station.pkl')):\n",
    "    # 点击输入地址框\n",
    "    browser.find_elements_by_id('fromStationText')[0].click()\n",
    "    name_dict = {}\n",
    "    name_list = []\n",
    "    # 显示六列首字母对应的地址，其中第一列是热门站点，无“下一页”选项，因此从第二列开始遍历\n",
    "    index_list = ['17','21','21','24','21']  #每一列中的“下一页”的css属性有不同的部分\n",
    "    # 遍历首字母列\n",
    "    for name_j in range(1,len(browser.find_elements_by_xpath(\"//ul[@id='abc']//li\"))):\n",
    "        browser.find_elements_by_xpath(\"//ul[@id='abc']//li\")[name_j].click() # 点击首字母列\n",
    "        next_i = 1 #\"下一页\"的索引\n",
    "        while True:\n",
    "            if browser.find_elements_by_id('ul_list'+str(name_j+1)):\n",
    "                #获取当前页的html代码\n",
    "                result = browser.find_elements_by_id('ul_list'+str(name_j+1))[0].get_attribute('innerHTML')\n",
    "                soup = BeautifulSoup(result,'lxml')\n",
    "                result_list = soup.find_all('li',class_=\"ac_even openLi\")  # 每个li都是一个地名以及相应的英文简写  \n",
    "                name_list.extend(result_list)\n",
    "            #点击“下一页”\n",
    "            if browser.find_elements_by_css_selector('[onclick=\"$.stationFor12306.pageDesigh('+index_list[name_j-1]+','+str(next_i)+','+str(name_j+1)+')\"]'):\n",
    "                browser.find_elements_by_css_selector('[onclick=\"$.stationFor12306.pageDesigh('+index_list[name_j-1]+','+str(next_i)+','+str(name_j+1)+')\"]')[0].click()\n",
    "                next_i = next_i + 1 \n",
    "            else:\n",
    "                break    \n",
    "    #从li中取出地名以及英文名            \n",
    "    for i in name_list:\n",
    "        if i.get('data'):\n",
    "            name_dict[i.text] = i.get('data')                \n",
    "   #存入pickle中         \n",
    "    with open(os.path.join(os.getcwd(),'station.pkl'),'wb') as f:\n",
    "        pickle.dump(name_dict,f)            \n",
    "else:\n",
    "    with open('station.pkl','rb') as f:\n",
    "        name_dict = pickle.load(f)   \n"
   ]
  },
  {
   "cell_type": "markdown",
   "metadata": {},
   "source": [
    "#### 获取第一层车票"
   ]
  },
  {
   "cell_type": "code",
   "execution_count": 3,
   "metadata": {},
   "outputs": [],
   "source": [
    "def query_ticket(fromStation,toStation,date):\n",
    "    #https://kyfw.12306.cn/otn/leftTicket/query?leftTicketDTO.train_date=2020-12-18\\\n",
    "    #&leftTicketDTO.from_station=BJP&leftTicketDTO.to_station=TJP&purpose_codes=ADULT\n",
    "    url = \"https://kyfw.12306.cn/otn/leftTicket/query?leftTicketDTO.train_date={date}&leftTicketDTO.from_station={fromStation}&leftTicketDTO.to_station={toStation}&purpose_codes=ADULT\".format(fromStation=name_dict[fromStation],\n",
    "                                                                                            toStation=name_dict[toStation],\n",
    "                                                                                            date=date)\n",
    "    return url"
   ]
  },
  {
   "cell_type": "code",
   "execution_count": 4,
   "metadata": {},
   "outputs": [],
   "source": [
    "fromStation = '南宁'\n",
    "toStation = '深圳'\n",
    "date = '2020-12-31'\n",
    "\n",
    "url = query_ticket(fromStation,toStation,date)"
   ]
  },
  {
   "cell_type": "code",
   "execution_count": 9,
   "metadata": {},
   "outputs": [],
   "source": [
    "browser = webdriver.Chrome()\n",
    "browser.get('https://kyfw.12306.cn/otn/leftTicket/init')\n",
    "req = requests.Session()\n",
    "cookies = browser.get_cookies()\n",
    "for cookie in cookies:\n",
    "        req.cookies.set(cookie['name'],cookie['value'])  \n",
    "browser.close()"
   ]
  },
  {
   "cell_type": "code",
   "execution_count": 24,
   "metadata": {},
   "outputs": [
    {
     "data": {
      "text/plain": [
       "'https://kyfw.12306.cn/otn/leftTicket/query?leftTicketDTO.train_date=2020-12-31&leftTicketDTO.from_station=NNZ&leftTicketDTO.to_station=SZQ&purpose_codes=ADULT'"
      ]
     },
     "execution_count": 24,
     "metadata": {},
     "output_type": "execute_result"
    }
   ],
   "source": [
    "url"
   ]
  },
  {
   "cell_type": "code",
   "execution_count": 25,
   "metadata": {},
   "outputs": [],
   "source": [
    "result = req.get(url).json()"
   ]
  },
  {
   "cell_type": "code",
   "execution_count": 26,
   "metadata": {},
   "outputs": [
    {
     "name": "stdout",
     "output_type": "stream",
     "text": [
      "48\n",
      "XG9lhlE40BcJEnRdUlL7%2BPSa8Ux1INCJWL2aPEGatnhZe%2BeAFFXe%2FnLpvSoEf2O2Ve6QlVD3bhgT%0Aio5SXCiOnEX5IGs%2FeLl9S1iHe4l%2FQCn0KPshWvfBuvXtzYbAKjG6thYW%2BKz7W3MXxTjvPq%2Flb%2F8o%0AJrBEWJQg5EL9qhJkKHjiA2xMKd5MvKLeylNmDcsEGLpbFuOQd4xiAsxRxH9iJ4NkAAaWFv33y7mb%0AaMiW4qxw47CWwGxCllXmMZB5COgaSXwYHY7mYexxitanv%2F5zk1n1Timq7yDheHw3DmtKlFc37mcT%0AnGw7tA%3D%3D|预订|71000G29110A|G2911|NFZ|IOQ|NFZ|IOQ|08:33|12:03|03:30|Y|806WjwpHOBkq3pc%2FYXvbnhDD70rfkqEJJE%2BkSmfXQ6UjeIbl|20201231|3|Z1|01|04|1|0|||||||||||有|3|10||O0M090|OM9|0|0||O024850021M0376500039072050010|0|||||1|#0#0|\n",
      "48\n",
      "vNGS8KdV3HPGt6kkoDd%2BeIK3FzzeYboCAJdxLR1BFBJMRXS1GLVMAd%2B6CDDjr2rzmeo9csaOEw0Q%0Ai2KMfIqaWsp%2BJvXhja22uTwCbpw9itj%2Fnq%2FpDWgnXzDprZX%2BmBUCNz%2F2orusPT%2FrO0cRNOjll3Wz%0A8Os%2Fe6sp3JusKxuEjILTZWo4SSTU5qbwHtw9OCe%2FTYyxaU7hgVChYrZAwmiVH4s5xc1R%2FJjemfEo%0Ahb4iTwO1tqbGw8dm1%2B3l3RLfH27SpdJIf593IHn4d90kNjACvZ05w5X%2F%2B0ghASSwk1G32V2y2Xe3%0A4AiRYQ%3D%3D|预订|710000G41704|G417|NFZ|NZQ|NFZ|IOQ|11:14|14:50|03:36|Y|Z4qL4f5SyVPpx2AXZCvd9v3vKS4KEGkmDl6zjeHWPUyrzcQY|20201231|3|Z1|01|05|1|0|||||||||||有|1|9||O0M090|OM9|0|0||O024350021M0368500019070600009|0|||||1|0#0#0|\n",
      "48\n",
      "UlY1Ka8nWmmllwoky3oeRjIxILiu3GZzswS5ab6O7DbIV%2BM%2BViYdANr9F5qHrdmhrk34kSgrtJIG%0Af0GU8qEa5JBI0j1bMEyhQU%2BCYBBBwPR2da6YwV%2B7wZyEHP9Hb4b6Er2yLIj8hDvaQvWcWfIVb7sE%0AGX5nhCbJZ38vrwrhoh0CS1Dg5ReGP05V9lXPOclwGns8%2FX2irJW0rpl1rq3i2pfLWELaQSvbntKt%0AEbnp8oBqo%2ByqYSi2rC2TNzzUwszjjgtLUgGSVGfQ8hWv8%2B8X3bX%2BbEhkDzWjAomHFSoNGc%2BdQvJd%0ANe%2BvSw%3D%3D|预订|710000G41704|G417|NFZ|NZQ|NFZ|NZQ|11:14|15:02|03:48|Y|pv7INU4t%2FEl1UjNE%2Ba3mDWkc2D%2Bol6GLWOe3vvm6MUyT67Mo|20201231|3|Z1|01|06|1|0|||||||||||有|1|9||O0M090|OM9|0|0||O025100021M0377000019072150009|0|||||1|0#0#0|\n",
      "48\n",
      "9yEPkMlCh5pieaNzFLFt6FJitwldI8L2fyHHcbQZPkH%2BiSAyiHQ9MHaLi2Y9XdufEWesTH5hjsP7%0Ayx1MH8ft6CSs6EQcDktQYOCl2CA96XhU5IcC32e83M6zj9AMdODbwBoF1TVZ26kA8uvQmHZEews4%0Aq8JF7FK8yz%2F7GZotD%2BmZfuy8LjaO2MAgUMFGW7Bh5DePqPezvBJVe6q25nlunoyeZ2K%2FlyvWPT4A%0AikCMkfjm77zEGerpVwyxDqfc8B7PGVrvmmuCEKdmXhacyQ7wA%2F8KOaATD0SUhPxk0fI2lqZ1vaJ0%0AZGM2sQ%3D%3D|预订|71000G291306|G2913|NFZ|IOQ|NFZ|IOQ|11:53|15:51|03:58|Y|5WHHlGjxjhtDXcfKfPTHYT%2BFgLCmINm8V4ABCtHXbjFthQSZ|20201231|3|Z1|01|08|1|0|||||||||||有|无|无||O0M090|OM9|0|1||O024850021M0376500009072050000|0|||||1|#0#0|\n",
      "48\n",
      "OZZ5mf5Cj1tKmR2QhZw9uPtN7Wlp%2FJtxF4WB3nGyNhhsAhvYZdrIV%2Fz3buhIcbXgurtD0Ra8qUml%0AgjN%2BDSuaQb2wIN%2BwSAFIpQoAgStjqzK9txyOc0bDeYfzG8YKltUnjuhMvUKXS9a9%2B4DviSwx3D6u%0AxTQIQkQMIo6AazgravN5bHo41KvGvLJSrXQu3KHb7h2Qhyqj1XbFlPyJyzGu2mdogI8NRBunwr0i%0Auj93t%2BN3TB0QaLcISohqnAlEzf8%2FHeBuzWvkjCWxI%2FYVpGA%2BTRh3q1UeZjRBGlNBNvT2nqIm53up%0ATQ4uiA%3D%3D|预订|73000G292000|G2917|BHZ|IOQ|NFZ|IOQ|19:49|23:31|03:42|N|yCcLw4LUGhMlvjLVyVVYKalKfWo13nOxqQMzOYdRS%2FCObrMN|20201231|3|Z1|02|08|1|0|||||||||||无|无|无||O0M090|OM9|0|1||O024350000M0368500009070600000|0|||||1|#0#0|\n",
      "48\n",
      "KkbJWmU%2Bq44p6r%2BxtVIyen7JuiXOomzz46aNfrw%2Bjpj33tCQ1ysasoyCsH2Xs7OKwVd5w%2FHVT2WO%0AZzc6PqqOV%2B3sAYVqy1RgJZpds1BF45jzVFENBai7meqUa7F3tAsVTKRidvdgrynKLs9bzKV86gYS%0AnfNJKUbLBQlpTOU0kACVGkXPPZUFgh25iG%2BWN3y5JFCvrR%2Fp3uz87%2BwvB5rGmyTg7%2Fo6UBevbx09%0AROrJY8ZlUskj0x%2FM3Ej%2BO3%2FCJaM%2BxMnHjOSrYmxiqz4zuSDhXoHmopHLCb0chq1zEHpwwNsycFm3%0A9GdaBamjRfMv3pg6|预订|80000K12060L|K1206|KMM|BJQ|NNZ|BJQ|21:56|13:32|15:36|Y|DdPdpD%2B3fBl31VQH4j%2F1b255PPhbVX4Z5hJQiLar4KPldcZv9vqewh0uKtw%3D|20201231|3|M1|09|14|1|0||||20|||无||无|有|||||403010W0|4311|0|1||4033600020302150000010124000211012403000|0|||||1|#0#0|\n"
     ]
    }
   ],
   "source": [
    "for i in result['data']['result']:\n",
    "    print(len(i.split('|')))\n",
    "    print(i)"
   ]
  },
  {
   "cell_type": "code",
   "execution_count": 34,
   "metadata": {},
   "outputs": [
    {
     "name": "stdout",
     "output_type": "stream",
     "text": [
      "G2911\n",
      "G417\n",
      "G417\n",
      "G2913\n",
      "G2917\n",
      "K1206\n"
     ]
    }
   ],
   "source": [
    "for i in result['data']['result']:\n",
    "    data = i.split('|')\n",
    "    train_no = data[3] #车号\n",
    "    print(train_no)\n"
   ]
  },
  {
   "cell_type": "code",
   "execution_count": 35,
   "metadata": {},
   "outputs": [],
   "source": [
    "s = \"\"\"Host: kyfw.12306.cn\n",
    "User-Agent: Mozilla/5.0 (Windows NT 10.0; Win64; x64; rv:84.0) Gecko/20100101 Firefox/84.0\n",
    "Accept: text/html,application/xhtml+xml,application/xml;q=0.9,image/webp,*/*;q=0.8\n",
    "Accept-Language: zh-CN,zh;q=0.8,zh-TW;q=0.7,zh-HK;q=0.5,en-US;q=0.3,en;q=0.2\n",
    "Accept-Encoding: gzip, deflate, br\n",
    "Connection: keep-alive\n",
    "Cookie: _uab_collina=160794996310293704862018; JSESSIONID=FCEDE56230CF06E1FB6C4E47088355ED; RAIL_EXPIRATION=1608816730304; RAIL_DEVICEID=QhthIKMy94fBKe34p9iPMHODhnUYgfjbYGWzipWmOnuOcMgj3qRzH7ksoDsJw0njNy5TrDRJ1AFEM3chTInNxgBZ8T1GCP64YqIb2Cab7nCmiEFIJOP4toTC3TXgs7bXBz2MTiSTJ5FJo9oOGa1csyu1GwnfxGCI; _jc_save_fromStation=%u5357%u5B81%2CNNZ; _jc_save_toStation=%u6DF1%u5733%2CSZQ; _jc_save_fromDate=2020-12-31; _jc_save_toDate=2020-12-21; _jc_save_wfdc_flag=dc; BIGipServerotn=2062024970.24610.0000; BIGipServerpassport=770179338.50215.0000; route=6f50b51faa11b987e576cdb301e545c4\n",
    "Upgrade-Insecure-Requests: 1\n",
    "Cache-Control: max-age=0\"\"\""
   ]
  },
  {
   "cell_type": "code",
   "execution_count": 42,
   "metadata": {},
   "outputs": [
    {
     "name": "stdout",
     "output_type": "stream",
     "text": [
      "'Host':' kyfw.12306.cn',\n",
      "'User-Agent':' Mozilla/5.0 (Windows NT 10.0; Win64; x64; rv',\n",
      "'Accept':' text/html,application/xhtml+xml,application/xml;q=0.9,image/webp,*/*;q=0.8',\n",
      "'Accept-Language':' zh-CN,zh;q=0.8,zh-TW;q=0.7,zh-HK;q=0.5,en-US;q=0.3,en;q=0.2',\n",
      "'Accept-Encoding':' gzip, deflate, br',\n",
      "'Connection':' keep-alive',\n",
      "'Cookie':' _uab_collina=160794996310293704862018; JSESSIONID=FCEDE56230CF06E1FB6C4E47088355ED; RAIL_EXPIRATION=1608816730304; RAIL_DEVICEID=QhthIKMy94fBKe34p9iPMHODhnUYgfjbYGWzipWmOnuOcMgj3qRzH7ksoDsJw0njNy5TrDRJ1AFEM3chTInNxgBZ8T1GCP64YqIb2Cab7nCmiEFIJOP4toTC3TXgs7bXBz2MTiSTJ5FJo9oOGa1csyu1GwnfxGCI; _jc_save_fromStation=%u5357%u5B81%2CNNZ; _jc_save_toStation=%u6DF1%u5733%2CSZQ; _jc_save_fromDate=2020-12-31; _jc_save_toDate=2020-12-21; _jc_save_wfdc_flag=dc; BIGipServerotn=2062024970.24610.0000; BIGipServerpassport=770179338.50215.0000; route=6f50b51faa11b987e576cdb301e545c4',\n",
      "'Upgrade-Insecure-Requests':' 1',\n",
      "'Cache-Control':' max-age=0',\n"
     ]
    }
   ],
   "source": [
    "for i in s.split('\\n'):\n",
    "    i = i.split(':')\n",
    "    print(\"'\"+i[0]+\"'\"+\":\"+\"'\"+i[1]+\"',\")"
   ]
  },
  {
   "cell_type": "code",
   "execution_count": 33,
   "metadata": {
    "scrolled": true
   },
   "outputs": [
    {
     "ename": "JSONDecodeError",
     "evalue": "Expecting value: line 1 column 1 (char 0)",
     "output_type": "error",
     "traceback": [
      "\u001b[1;31m---------------------------------------------------------------------------\u001b[0m",
      "\u001b[1;31mJSONDecodeError\u001b[0m                           Traceback (most recent call last)",
      "\u001b[1;32m<ipython-input-33-9e905f3a5b42>\u001b[0m in \u001b[0;36m<module>\u001b[1;34m\u001b[0m\n\u001b[1;32m----> 1\u001b[1;33m \u001b[0mrequests\u001b[0m\u001b[1;33m.\u001b[0m\u001b[0mget\u001b[0m\u001b[1;33m(\u001b[0m\u001b[0murl\u001b[0m\u001b[1;33m)\u001b[0m\u001b[1;33m.\u001b[0m\u001b[0mjson\u001b[0m\u001b[1;33m(\u001b[0m\u001b[1;33m)\u001b[0m\u001b[1;33m\u001b[0m\u001b[1;33m\u001b[0m\u001b[0m\n\u001b[0m",
      "\u001b[1;32mE:\\resource\\Anaconda3\\envs\\work\\lib\\site-packages\\requests\\models.py\u001b[0m in \u001b[0;36mjson\u001b[1;34m(self, **kwargs)\u001b[0m\n\u001b[0;32m    895\u001b[0m                     \u001b[1;31m# used.\u001b[0m\u001b[1;33m\u001b[0m\u001b[1;33m\u001b[0m\u001b[1;33m\u001b[0m\u001b[0m\n\u001b[0;32m    896\u001b[0m                     \u001b[1;32mpass\u001b[0m\u001b[1;33m\u001b[0m\u001b[1;33m\u001b[0m\u001b[0m\n\u001b[1;32m--> 897\u001b[1;33m         \u001b[1;32mreturn\u001b[0m \u001b[0mcomplexjson\u001b[0m\u001b[1;33m.\u001b[0m\u001b[0mloads\u001b[0m\u001b[1;33m(\u001b[0m\u001b[0mself\u001b[0m\u001b[1;33m.\u001b[0m\u001b[0mtext\u001b[0m\u001b[1;33m,\u001b[0m \u001b[1;33m**\u001b[0m\u001b[0mkwargs\u001b[0m\u001b[1;33m)\u001b[0m\u001b[1;33m\u001b[0m\u001b[1;33m\u001b[0m\u001b[0m\n\u001b[0m\u001b[0;32m    898\u001b[0m \u001b[1;33m\u001b[0m\u001b[0m\n\u001b[0;32m    899\u001b[0m     \u001b[1;33m@\u001b[0m\u001b[0mproperty\u001b[0m\u001b[1;33m\u001b[0m\u001b[1;33m\u001b[0m\u001b[0m\n",
      "\u001b[1;32mE:\\resource\\Anaconda3\\envs\\work\\lib\\json\\__init__.py\u001b[0m in \u001b[0;36mloads\u001b[1;34m(s, encoding, cls, object_hook, parse_float, parse_int, parse_constant, object_pairs_hook, **kw)\u001b[0m\n\u001b[0;32m    346\u001b[0m             \u001b[0mparse_int\u001b[0m \u001b[1;32mis\u001b[0m \u001b[1;32mNone\u001b[0m \u001b[1;32mand\u001b[0m \u001b[0mparse_float\u001b[0m \u001b[1;32mis\u001b[0m \u001b[1;32mNone\u001b[0m \u001b[1;32mand\u001b[0m\u001b[1;33m\u001b[0m\u001b[1;33m\u001b[0m\u001b[0m\n\u001b[0;32m    347\u001b[0m             parse_constant is None and object_pairs_hook is None and not kw):\n\u001b[1;32m--> 348\u001b[1;33m         \u001b[1;32mreturn\u001b[0m \u001b[0m_default_decoder\u001b[0m\u001b[1;33m.\u001b[0m\u001b[0mdecode\u001b[0m\u001b[1;33m(\u001b[0m\u001b[0ms\u001b[0m\u001b[1;33m)\u001b[0m\u001b[1;33m\u001b[0m\u001b[1;33m\u001b[0m\u001b[0m\n\u001b[0m\u001b[0;32m    349\u001b[0m     \u001b[1;32mif\u001b[0m \u001b[0mcls\u001b[0m \u001b[1;32mis\u001b[0m \u001b[1;32mNone\u001b[0m\u001b[1;33m:\u001b[0m\u001b[1;33m\u001b[0m\u001b[1;33m\u001b[0m\u001b[0m\n\u001b[0;32m    350\u001b[0m         \u001b[0mcls\u001b[0m \u001b[1;33m=\u001b[0m \u001b[0mJSONDecoder\u001b[0m\u001b[1;33m\u001b[0m\u001b[1;33m\u001b[0m\u001b[0m\n",
      "\u001b[1;32mE:\\resource\\Anaconda3\\envs\\work\\lib\\json\\decoder.py\u001b[0m in \u001b[0;36mdecode\u001b[1;34m(self, s, _w)\u001b[0m\n\u001b[0;32m    335\u001b[0m \u001b[1;33m\u001b[0m\u001b[0m\n\u001b[0;32m    336\u001b[0m         \"\"\"\n\u001b[1;32m--> 337\u001b[1;33m         \u001b[0mobj\u001b[0m\u001b[1;33m,\u001b[0m \u001b[0mend\u001b[0m \u001b[1;33m=\u001b[0m \u001b[0mself\u001b[0m\u001b[1;33m.\u001b[0m\u001b[0mraw_decode\u001b[0m\u001b[1;33m(\u001b[0m\u001b[0ms\u001b[0m\u001b[1;33m,\u001b[0m \u001b[0midx\u001b[0m\u001b[1;33m=\u001b[0m\u001b[0m_w\u001b[0m\u001b[1;33m(\u001b[0m\u001b[0ms\u001b[0m\u001b[1;33m,\u001b[0m \u001b[1;36m0\u001b[0m\u001b[1;33m)\u001b[0m\u001b[1;33m.\u001b[0m\u001b[0mend\u001b[0m\u001b[1;33m(\u001b[0m\u001b[1;33m)\u001b[0m\u001b[1;33m)\u001b[0m\u001b[1;33m\u001b[0m\u001b[1;33m\u001b[0m\u001b[0m\n\u001b[0m\u001b[0;32m    338\u001b[0m         \u001b[0mend\u001b[0m \u001b[1;33m=\u001b[0m \u001b[0m_w\u001b[0m\u001b[1;33m(\u001b[0m\u001b[0ms\u001b[0m\u001b[1;33m,\u001b[0m \u001b[0mend\u001b[0m\u001b[1;33m)\u001b[0m\u001b[1;33m.\u001b[0m\u001b[0mend\u001b[0m\u001b[1;33m(\u001b[0m\u001b[1;33m)\u001b[0m\u001b[1;33m\u001b[0m\u001b[1;33m\u001b[0m\u001b[0m\n\u001b[0;32m    339\u001b[0m         \u001b[1;32mif\u001b[0m \u001b[0mend\u001b[0m \u001b[1;33m!=\u001b[0m \u001b[0mlen\u001b[0m\u001b[1;33m(\u001b[0m\u001b[0ms\u001b[0m\u001b[1;33m)\u001b[0m\u001b[1;33m:\u001b[0m\u001b[1;33m\u001b[0m\u001b[1;33m\u001b[0m\u001b[0m\n",
      "\u001b[1;32mE:\\resource\\Anaconda3\\envs\\work\\lib\\json\\decoder.py\u001b[0m in \u001b[0;36mraw_decode\u001b[1;34m(self, s, idx)\u001b[0m\n\u001b[0;32m    353\u001b[0m             \u001b[0mobj\u001b[0m\u001b[1;33m,\u001b[0m \u001b[0mend\u001b[0m \u001b[1;33m=\u001b[0m \u001b[0mself\u001b[0m\u001b[1;33m.\u001b[0m\u001b[0mscan_once\u001b[0m\u001b[1;33m(\u001b[0m\u001b[0ms\u001b[0m\u001b[1;33m,\u001b[0m \u001b[0midx\u001b[0m\u001b[1;33m)\u001b[0m\u001b[1;33m\u001b[0m\u001b[1;33m\u001b[0m\u001b[0m\n\u001b[0;32m    354\u001b[0m         \u001b[1;32mexcept\u001b[0m \u001b[0mStopIteration\u001b[0m \u001b[1;32mas\u001b[0m \u001b[0merr\u001b[0m\u001b[1;33m:\u001b[0m\u001b[1;33m\u001b[0m\u001b[1;33m\u001b[0m\u001b[0m\n\u001b[1;32m--> 355\u001b[1;33m             \u001b[1;32mraise\u001b[0m \u001b[0mJSONDecodeError\u001b[0m\u001b[1;33m(\u001b[0m\u001b[1;34m\"Expecting value\"\u001b[0m\u001b[1;33m,\u001b[0m \u001b[0ms\u001b[0m\u001b[1;33m,\u001b[0m \u001b[0merr\u001b[0m\u001b[1;33m.\u001b[0m\u001b[0mvalue\u001b[0m\u001b[1;33m)\u001b[0m \u001b[1;32mfrom\u001b[0m \u001b[1;32mNone\u001b[0m\u001b[1;33m\u001b[0m\u001b[1;33m\u001b[0m\u001b[0m\n\u001b[0m\u001b[0;32m    356\u001b[0m         \u001b[1;32mreturn\u001b[0m \u001b[0mobj\u001b[0m\u001b[1;33m,\u001b[0m \u001b[0mend\u001b[0m\u001b[1;33m\u001b[0m\u001b[1;33m\u001b[0m\u001b[0m\n",
      "\u001b[1;31mJSONDecodeError\u001b[0m: Expecting value: line 1 column 1 (char 0)"
     ]
    }
   ],
   "source": [
    "requests.get(url).json()"
   ]
  },
  {
   "cell_type": "code",
   "execution_count": null,
   "metadata": {},
   "outputs": [],
   "source": []
  },
  {
   "cell_type": "code",
   "execution_count": 1,
   "metadata": {},
   "outputs": [
    {
     "ename": "SyntaxError",
     "evalue": "invalid syntax (<ipython-input-1-e5f2efffb4b8>, line 1)",
     "output_type": "error",
     "traceback": [
      "\u001b[1;36m  File \u001b[1;32m\"<ipython-input-1-e5f2efffb4b8>\"\u001b[1;36m, line \u001b[1;32m1\u001b[0m\n\u001b[1;33m    https://kyfw.12306.cn/otn/leftTicket/init?linktypeid=dc\u001b[0m\n\u001b[1;37m           ^\u001b[0m\n\u001b[1;31mSyntaxError\u001b[0m\u001b[1;31m:\u001b[0m invalid syntax\n"
     ]
    }
   ],
   "source": [
    "https://kyfw.12306.cn/otn/leftTicket/init?linktypeid=dc"
   ]
  },
  {
   "cell_type": "markdown",
   "metadata": {},
   "source": [
    "#### 出发地"
   ]
  },
  {
   "cell_type": "code",
   "execution_count": 164,
   "metadata": {
    "scrolled": true
   },
   "outputs": [
    {
     "data": {
      "text/plain": [
       "['__class__',\n",
       " '__delattr__',\n",
       " '__dict__',\n",
       " '__dir__',\n",
       " '__doc__',\n",
       " '__eq__',\n",
       " '__format__',\n",
       " '__ge__',\n",
       " '__getattribute__',\n",
       " '__gt__',\n",
       " '__hash__',\n",
       " '__init__',\n",
       " '__init_subclass__',\n",
       " '__le__',\n",
       " '__lt__',\n",
       " '__module__',\n",
       " '__ne__',\n",
       " '__new__',\n",
       " '__reduce__',\n",
       " '__reduce_ex__',\n",
       " '__repr__',\n",
       " '__setattr__',\n",
       " '__sizeof__',\n",
       " '__str__',\n",
       " '__subclasshook__',\n",
       " '__weakref__',\n",
       " '_execute',\n",
       " '_id',\n",
       " '_parent',\n",
       " '_upload',\n",
       " '_w3c',\n",
       " 'clear',\n",
       " 'click',\n",
       " 'find_element',\n",
       " 'find_element_by_class_name',\n",
       " 'find_element_by_css_selector',\n",
       " 'find_element_by_id',\n",
       " 'find_element_by_link_text',\n",
       " 'find_element_by_name',\n",
       " 'find_element_by_partial_link_text',\n",
       " 'find_element_by_tag_name',\n",
       " 'find_element_by_xpath',\n",
       " 'find_elements',\n",
       " 'find_elements_by_class_name',\n",
       " 'find_elements_by_css_selector',\n",
       " 'find_elements_by_id',\n",
       " 'find_elements_by_link_text',\n",
       " 'find_elements_by_name',\n",
       " 'find_elements_by_partial_link_text',\n",
       " 'find_elements_by_tag_name',\n",
       " 'find_elements_by_xpath',\n",
       " 'get_attribute',\n",
       " 'get_property',\n",
       " 'id',\n",
       " 'is_displayed',\n",
       " 'is_enabled',\n",
       " 'is_selected',\n",
       " 'location',\n",
       " 'location_once_scrolled_into_view',\n",
       " 'parent',\n",
       " 'rect',\n",
       " 'screenshot',\n",
       " 'screenshot_as_base64',\n",
       " 'screenshot_as_png',\n",
       " 'send_keys',\n",
       " 'size',\n",
       " 'submit',\n",
       " 'tag_name',\n",
       " 'text',\n",
       " 'value_of_css_property']"
      ]
     },
     "execution_count": 164,
     "metadata": {},
     "output_type": "execute_result"
    }
   ],
   "source": [
    "dir(browser.find_elements_by_id('abc')[0])"
   ]
  },
  {
   "cell_type": "code",
   "execution_count": 51,
   "metadata": {},
   "outputs": [],
   "source": [
    "if browser.find_elements_by_id('fromStationText'):\n",
    "    fromStation = browser.find_elements_by_id('fromStationText')[0]\n",
    "    fromStation.clear()\n",
    "    fromStation.click()\n",
    "    fromStation.send_keys('深圳')\n",
    "    \n",
    "if browser.find_elements_by_id('panel_cities'): # 下拉框\n",
    "    if browser.find_elements_by_class_name('citylineover'):\n",
    "        browser.find_elements_by_class_name('citylineover')[0].click()\n"
   ]
  },
  {
   "cell_type": "code",
   "execution_count": 16,
   "metadata": {},
   "outputs": [
    {
     "data": {
      "text/plain": [
       "[]"
      ]
     },
     "execution_count": 16,
     "metadata": {},
     "output_type": "execute_result"
    }
   ],
   "source": [
    "browser.find_elements_by_class_name('AbcSearch clx')"
   ]
  },
  {
   "cell_type": "markdown",
   "metadata": {},
   "source": [
    "#### 目的地"
   ]
  },
  {
   "cell_type": "code",
   "execution_count": 5,
   "metadata": {},
   "outputs": [],
   "source": [
    "if browser.find_elements_by_id('toStationText'):\n",
    "    fromStation = browser.find_elements_by_id('toStationText')[0]\n",
    "    fromStation.clear()\n",
    "    fromStation.click()\n",
    "    fromStation.send_keys('南宁')\n",
    "    \n",
    "if browser.find_elements_by_id('panel_cities'): # 下拉框\n",
    "    if browser.find_elements_by_class_name('citylineover'):\n",
    "        browser.find_elements_by_class_name('citylineover')[0].click()"
   ]
  },
  {
   "cell_type": "markdown",
   "metadata": {},
   "source": [
    "#### 日期"
   ]
  },
  {
   "cell_type": "code",
   "execution_count": 6,
   "metadata": {},
   "outputs": [],
   "source": [
    "month_dict = {\n",
    "    '01':'一月',\n",
    "    '02':'二月',\n",
    "    '03':'三月',\n",
    "    '04':'四月',\n",
    "    '05':'五月',\n",
    "    '06':'六月',\n",
    "    '07':'七月',\n",
    "    '08':'八月',\n",
    "    '09':'九月',\n",
    "    '10':'十月月',\n",
    "    '11':'十一月',\n",
    "    '12':'十二月'\n",
    "}"
   ]
  },
  {
   "cell_type": "code",
   "execution_count": 7,
   "metadata": {},
   "outputs": [],
   "source": [
    "if browser.find_elements_by_css_selector(\"[name='leftTicketDTO.train_date']\"):\n",
    "    browser.find_elements_by_css_selector(\"[name='leftTicketDTO.train_date']\")[0].click()"
   ]
  },
  {
   "cell_type": "code",
   "execution_count": null,
   "metadata": {},
   "outputs": [],
   "source": []
  },
  {
   "cell_type": "code",
   "execution_count": 21,
   "metadata": {},
   "outputs": [
    {
     "data": {
      "text/plain": [
       "[<selenium.webdriver.remote.webelement.WebElement (session=\"2ec1c58744bb697b5614a1defc315e95\", element=\"74e5f77b-2419-4e5f-b305-84b0e9804381\")>,\n",
       " <selenium.webdriver.remote.webelement.WebElement (session=\"2ec1c58744bb697b5614a1defc315e95\", element=\"63900a24-edd3-4d26-87f4-2611423311a8\")>]"
      ]
     },
     "execution_count": 21,
     "metadata": {},
     "output_type": "execute_result"
    }
   ],
   "source": [
    "browser.find_elements_by_class_name('year')"
   ]
  },
  {
   "cell_type": "code",
   "execution_count": 8,
   "metadata": {},
   "outputs": [],
   "source": [
    "if browser.find_elements_by_class_name('year'):\n",
    "    browser.find_elements_by_class_name('year')[0].click()"
   ]
  },
  {
   "cell_type": "code",
   "execution_count": 10,
   "metadata": {},
   "outputs": [
    {
     "data": {
      "text/plain": [
       "[<selenium.webdriver.remote.webelement.WebElement (session=\"7a7f510b735d5bc6e39fb10f3d55bb4f\", element=\"82ff685d-560f-4ee3-a793-e2e808c9a03a\")>]"
      ]
     },
     "execution_count": 10,
     "metadata": {},
     "output_type": "execute_result"
    }
   ],
   "source": [
    "browser.find_elements_by_css_selector(\"[name='leftTicketDTO.train_date']\")"
   ]
  },
  {
   "cell_type": "code",
   "execution_count": 77,
   "metadata": {},
   "outputs": [],
   "source": [
    "if browser.find_elements_by_css_selector(\"[style='color: #003784;cursor:pointer;']\"):\n",
    "    browser.find_elements_by_css_selector(\"[style='color: #003784;cursor:pointer;']\")[0].click()"
   ]
  },
  {
   "cell_type": "markdown",
   "metadata": {},
   "source": [
    "#### 查询"
   ]
  },
  {
   "cell_type": "code",
   "execution_count": 17,
   "metadata": {},
   "outputs": [],
   "source": [
    "if browser.find_elements_by_link_text('查询'): # 下拉框\n",
    "    browser.find_elements_by_link_text('查询')[0].click()"
   ]
  },
  {
   "cell_type": "markdown",
   "metadata": {},
   "source": [
    "---"
   ]
  },
  {
   "cell_type": "code",
   "execution_count": 13,
   "metadata": {},
   "outputs": [
    {
     "data": {
      "text/plain": [
       "[<selenium.webdriver.remote.webelement.WebElement (session=\"24a6b39707d19c8331bbdb67eeefa570\", element=\"76cbde3f-7dd1-44a6-89e1-340479738826\")>,\n",
       " <selenium.webdriver.remote.webelement.WebElement (session=\"24a6b39707d19c8331bbdb67eeefa570\", element=\"2fb0eb71-c14a-4c65-86b4-bd7ec72710fa\")>,\n",
       " <selenium.webdriver.remote.webelement.WebElement (session=\"24a6b39707d19c8331bbdb67eeefa570\", element=\"dd94a152-41e9-4183-af04-a29d80960963\")>,\n",
       " <selenium.webdriver.remote.webelement.WebElement (session=\"24a6b39707d19c8331bbdb67eeefa570\", element=\"fa4c26a4-5199-4404-bf4a-d6fe8e8fc6fd\")>,\n",
       " <selenium.webdriver.remote.webelement.WebElement (session=\"24a6b39707d19c8331bbdb67eeefa570\", element=\"22b78eb6-7390-4f4c-a9f1-c485e29092e1\")>,\n",
       " <selenium.webdriver.remote.webelement.WebElement (session=\"24a6b39707d19c8331bbdb67eeefa570\", element=\"caeb39b7-175f-465e-bb8c-679d0f84e927\")>,\n",
       " <selenium.webdriver.remote.webelement.WebElement (session=\"24a6b39707d19c8331bbdb67eeefa570\", element=\"f6dc6101-bbb9-4181-8805-bea8a7da5ddc\")>,\n",
       " <selenium.webdriver.remote.webelement.WebElement (session=\"24a6b39707d19c8331bbdb67eeefa570\", element=\"bce667a5-8a51-4699-a6b7-1c7e175c9854\")>,\n",
       " <selenium.webdriver.remote.webelement.WebElement (session=\"24a6b39707d19c8331bbdb67eeefa570\", element=\"3bf51405-cee8-496b-a890-6e470f17a310\")>,\n",
       " <selenium.webdriver.remote.webelement.WebElement (session=\"24a6b39707d19c8331bbdb67eeefa570\", element=\"98cee305-90b4-4b01-a64a-0402a053ac6c\")>]"
      ]
     },
     "execution_count": 13,
     "metadata": {},
     "output_type": "execute_result"
    }
   ],
   "source": [
    "browser.find_elements_by_xpath(\"//div[@class='lay-btn']//a[@class='btn92s']\")"
   ]
  },
  {
   "cell_type": "code",
   "execution_count": 16,
   "metadata": {},
   "outputs": [],
   "source": [
    "browser.find_elements_by_link_text('查询')[0].click()"
   ]
  },
  {
   "cell_type": "code",
   "execution_count": 1,
   "metadata": {},
   "outputs": [
    {
     "ename": "NameError",
     "evalue": "name 'browser' is not defined",
     "output_type": "error",
     "traceback": [
      "\u001b[1;31m---------------------------------------------------------------------------\u001b[0m",
      "\u001b[1;31mNameError\u001b[0m                                 Traceback (most recent call last)",
      "\u001b[1;32m<ipython-input-1-d836b8a2b4da>\u001b[0m in \u001b[0;36m<module>\u001b[1;34m\u001b[0m\n\u001b[1;32m----> 1\u001b[1;33m \u001b[0mbrowser\u001b[0m\u001b[1;33m.\u001b[0m\u001b[0mclose\u001b[0m\u001b[1;33m(\u001b[0m\u001b[1;33m)\u001b[0m\u001b[1;33m\u001b[0m\u001b[1;33m\u001b[0m\u001b[0m\n\u001b[0m",
      "\u001b[1;31mNameError\u001b[0m: name 'browser' is not defined"
     ]
    }
   ],
   "source": [
    "browser.close()"
   ]
  },
  {
   "cell_type": "code",
   "execution_count": null,
   "metadata": {},
   "outputs": [],
   "source": []
  }
 ],
 "metadata": {
  "kernelspec": {
   "display_name": "Python 3",
   "language": "python",
   "name": "python3"
  },
  "language_info": {
   "codemirror_mode": {
    "name": "ipython",
    "version": 3
   },
   "file_extension": ".py",
   "mimetype": "text/x-python",
   "name": "python",
   "nbconvert_exporter": "python",
   "pygments_lexer": "ipython3",
   "version": "3.7.4"
  }
 },
 "nbformat": 4,
 "nbformat_minor": 2
}
