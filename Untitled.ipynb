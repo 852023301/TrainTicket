{
 "cells": [
  {
   "cell_type": "code",
   "execution_count": 1,
   "metadata": {},
   "outputs": [],
   "source": [
    "\"\"\"爬取指定起始地点中途全部换乘的12306的火车票信息\"\"\"\n",
    "from selenium.webdriver.common.keys import Keys\n",
    "from selenium import webdriver\n",
    "import json, base64\n",
    "import requests,os\n",
    "from bs4 import BeautifulSoup\n",
    "import pickle\n",
    "import urllib"
   ]
  },
  {
   "cell_type": "code",
   "execution_count": 3,
   "metadata": {},
   "outputs": [],
   "source": [
    "browser = webdriver.Chrome()\n"
   ]
  },
  {
   "cell_type": "code",
   "execution_count": 4,
   "metadata": {},
   "outputs": [],
   "source": [
    "browser.get('https://kyfw.12306.cn/otn/leftTicket/init')"
   ]
  },
  {
   "cell_type": "code",
   "execution_count": 19,
   "metadata": {},
   "outputs": [],
   "source": [
    "if browser.find_elements_by_id('fromStationText'):\n",
    "    fromStation = browser.find_elements_by_id('fromStationText')[0]\n",
    "    fromStation.clear()\n",
    "    fromStation.click()\n",
    "    fromStation.send_keys('深圳')\n",
    "    \n",
    "if browser.find_elements_by_id('panel_cities'): # 下拉框\n",
    "    if browser.find_elements_by_class_name('citylineover'):\n",
    "        browser.find_elements_by_class_name('citylineover')[0].click()\n"
   ]
  },
  {
   "cell_type": "code",
   "execution_count": 15,
   "metadata": {},
   "outputs": [
    {
     "data": {
      "text/plain": [
       "'深圳\\nshenzhen'"
      ]
     },
     "execution_count": 15,
     "metadata": {},
     "output_type": "execute_result"
    }
   ],
   "source": [
    "browser.find_elements_by_class_name('citylineover')[0]"
   ]
  },
  {
   "cell_type": "code",
   "execution_count": 20,
   "metadata": {},
   "outputs": [],
   "source": [
    "browser.close()"
   ]
  }
 ],
 "metadata": {
  "kernelspec": {
   "display_name": "Python 3",
   "language": "python",
   "name": "python3"
  },
  "language_info": {
   "codemirror_mode": {
    "name": "ipython",
    "version": 3
   },
   "file_extension": ".py",
   "mimetype": "text/x-python",
   "name": "python",
   "nbconvert_exporter": "python",
   "pygments_lexer": "ipython3",
   "version": "3.7.3"
  }
 },
 "nbformat": 4,
 "nbformat_minor": 2
}
